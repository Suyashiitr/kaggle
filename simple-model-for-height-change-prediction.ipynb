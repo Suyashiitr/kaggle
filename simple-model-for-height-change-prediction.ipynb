{
 "cells": [
  {
   "cell_type": "code",
   "execution_count": 1,
   "id": "a6d50db1",
   "metadata": {
    "_cell_guid": "b1076dfc-b9ad-4769-8c92-a6c4dae69d19",
    "_uuid": "8f2839f25d086af736a60e9eeb907d3b93b6e0e5",
    "execution": {
     "iopub.execute_input": "2022-10-27T13:45:47.647874Z",
     "iopub.status.busy": "2022-10-27T13:45:47.647041Z",
     "iopub.status.idle": "2022-10-27T13:45:49.195183Z",
     "shell.execute_reply": "2022-10-27T13:45:49.193074Z"
    },
    "papermill": {
     "duration": 1.560114,
     "end_time": "2022-10-27T13:45:49.199160",
     "exception": false,
     "start_time": "2022-10-27T13:45:47.639046",
     "status": "completed"
    },
    "tags": []
   },
   "outputs": [],
   "source": [
    "#importing libraries\n",
    "import pandas as pd\n",
    "import numpy as np\n",
    "from sklearn.ensemble import RandomForestRegressor\n",
    "from sklearn.model_selection import train_test_split"
   ]
  },
  {
   "cell_type": "code",
   "execution_count": 2,
   "id": "e6d646cc",
   "metadata": {
    "execution": {
     "iopub.execute_input": "2022-10-27T13:45:49.210452Z",
     "iopub.status.busy": "2022-10-27T13:45:49.210042Z",
     "iopub.status.idle": "2022-10-27T13:45:49.256545Z",
     "shell.execute_reply": "2022-10-27T13:45:49.255004Z"
    },
    "papermill": {
     "duration": 0.055515,
     "end_time": "2022-10-27T13:45:49.259839",
     "exception": false,
     "start_time": "2022-10-27T13:45:49.204324",
     "status": "completed"
    },
    "tags": []
   },
   "outputs": [],
   "source": [
    "h1 = pd.read_csv('../input/human-height/annual-change-in-average-female-height.csv')\n",
    "#Reads the csv file containing info about annual change in average female height country-wise"
   ]
  },
  {
   "cell_type": "code",
   "execution_count": 3,
   "id": "9cd6d1de",
   "metadata": {
    "execution": {
     "iopub.execute_input": "2022-10-27T13:45:49.271462Z",
     "iopub.status.busy": "2022-10-27T13:45:49.271007Z",
     "iopub.status.idle": "2022-10-27T13:45:49.303405Z",
     "shell.execute_reply": "2022-10-27T13:45:49.302134Z"
    },
    "papermill": {
     "duration": 0.043243,
     "end_time": "2022-10-27T13:45:49.307579",
     "exception": false,
     "start_time": "2022-10-27T13:45:49.264336",
     "status": "completed"
    },
    "tags": []
   },
   "outputs": [
    {
     "data": {
      "text/html": [
       "<div>\n",
       "<style scoped>\n",
       "    .dataframe tbody tr th:only-of-type {\n",
       "        vertical-align: middle;\n",
       "    }\n",
       "\n",
       "    .dataframe tbody tr th {\n",
       "        vertical-align: top;\n",
       "    }\n",
       "\n",
       "    .dataframe thead th {\n",
       "        text-align: right;\n",
       "    }\n",
       "</style>\n",
       "<table border=\"1\" class=\"dataframe\">\n",
       "  <thead>\n",
       "    <tr style=\"text-align: right;\">\n",
       "      <th></th>\n",
       "      <th>Entity</th>\n",
       "      <th>Code</th>\n",
       "      <th>Year</th>\n",
       "      <th>Year-on-year change in female height (%)</th>\n",
       "    </tr>\n",
       "  </thead>\n",
       "  <tbody>\n",
       "    <tr>\n",
       "      <th>0</th>\n",
       "      <td>Afghanistan</td>\n",
       "      <td>AFG</td>\n",
       "      <td>1897</td>\n",
       "      <td>0.08962</td>\n",
       "    </tr>\n",
       "    <tr>\n",
       "      <th>1</th>\n",
       "      <td>Afghanistan</td>\n",
       "      <td>AFG</td>\n",
       "      <td>1898</td>\n",
       "      <td>0.08977</td>\n",
       "    </tr>\n",
       "    <tr>\n",
       "      <th>2</th>\n",
       "      <td>Afghanistan</td>\n",
       "      <td>AFG</td>\n",
       "      <td>1899</td>\n",
       "      <td>0.08966</td>\n",
       "    </tr>\n",
       "    <tr>\n",
       "      <th>3</th>\n",
       "      <td>Afghanistan</td>\n",
       "      <td>AFG</td>\n",
       "      <td>1900</td>\n",
       "      <td>0.08963</td>\n",
       "    </tr>\n",
       "    <tr>\n",
       "      <th>4</th>\n",
       "      <td>Afghanistan</td>\n",
       "      <td>AFG</td>\n",
       "      <td>1901</td>\n",
       "      <td>0.08949</td>\n",
       "    </tr>\n",
       "    <tr>\n",
       "      <th>...</th>\n",
       "      <td>...</td>\n",
       "      <td>...</td>\n",
       "      <td>...</td>\n",
       "      <td>...</td>\n",
       "    </tr>\n",
       "    <tr>\n",
       "      <th>995</th>\n",
       "      <td>Australia</td>\n",
       "      <td>AUS</td>\n",
       "      <td>1992</td>\n",
       "      <td>0.03137</td>\n",
       "    </tr>\n",
       "    <tr>\n",
       "      <th>996</th>\n",
       "      <td>Australia</td>\n",
       "      <td>AUS</td>\n",
       "      <td>1993</td>\n",
       "      <td>0.03153</td>\n",
       "    </tr>\n",
       "    <tr>\n",
       "      <th>997</th>\n",
       "      <td>Australia</td>\n",
       "      <td>AUS</td>\n",
       "      <td>1994</td>\n",
       "      <td>0.03120</td>\n",
       "    </tr>\n",
       "    <tr>\n",
       "      <th>998</th>\n",
       "      <td>Australia</td>\n",
       "      <td>AUS</td>\n",
       "      <td>1995</td>\n",
       "      <td>0.03113</td>\n",
       "    </tr>\n",
       "    <tr>\n",
       "      <th>999</th>\n",
       "      <td>Australia</td>\n",
       "      <td>AUS</td>\n",
       "      <td>1996</td>\n",
       "      <td>0.03124</td>\n",
       "    </tr>\n",
       "  </tbody>\n",
       "</table>\n",
       "<p>1000 rows × 4 columns</p>\n",
       "</div>"
      ],
      "text/plain": [
       "          Entity Code  Year  Year-on-year change in female height (%)\n",
       "0    Afghanistan  AFG  1897                                   0.08962\n",
       "1    Afghanistan  AFG  1898                                   0.08977\n",
       "2    Afghanistan  AFG  1899                                   0.08966\n",
       "3    Afghanistan  AFG  1900                                   0.08963\n",
       "4    Afghanistan  AFG  1901                                   0.08949\n",
       "..           ...  ...   ...                                       ...\n",
       "995    Australia  AUS  1992                                   0.03137\n",
       "996    Australia  AUS  1993                                   0.03153\n",
       "997    Australia  AUS  1994                                   0.03120\n",
       "998    Australia  AUS  1995                                   0.03113\n",
       "999    Australia  AUS  1996                                   0.03124\n",
       "\n",
       "[1000 rows x 4 columns]"
      ]
     },
     "execution_count": 3,
     "metadata": {},
     "output_type": "execute_result"
    }
   ],
   "source": [
    "h1.head(1000)\n",
    "#shows the first 1000 rows of the dataset. There are 4 columns."
   ]
  },
  {
   "cell_type": "code",
   "execution_count": 4,
   "id": "f62ad703",
   "metadata": {
    "execution": {
     "iopub.execute_input": "2022-10-27T13:45:49.324526Z",
     "iopub.status.busy": "2022-10-27T13:45:49.323516Z",
     "iopub.status.idle": "2022-10-27T13:45:49.362395Z",
     "shell.execute_reply": "2022-10-27T13:45:49.361282Z"
    },
    "papermill": {
     "duration": 0.055894,
     "end_time": "2022-10-27T13:45:49.368894",
     "exception": false,
     "start_time": "2022-10-27T13:45:49.313000",
     "status": "completed"
    },
    "tags": []
   },
   "outputs": [
    {
     "name": "stdout",
     "output_type": "stream",
     "text": [
      "<class 'pandas.core.frame.DataFrame'>\n",
      "RangeIndex: 20800 entries, 0 to 20799\n",
      "Data columns (total 4 columns):\n",
      " #   Column                                    Non-Null Count  Dtype  \n",
      "---  ------                                    --------------  -----  \n",
      " 0   Entity                                    20800 non-null  object \n",
      " 1   Code                                      20100 non-null  object \n",
      " 2   Year                                      20800 non-null  int64  \n",
      " 3   Year-on-year change in female height (%)  20800 non-null  float64\n",
      "dtypes: float64(1), int64(1), object(2)\n",
      "memory usage: 650.1+ KB\n"
     ]
    }
   ],
   "source": [
    "h1.info()\n",
    "#700 entries in 'Code' column are null values."
   ]
  },
  {
   "cell_type": "code",
   "execution_count": 5,
   "id": "84dc15ee",
   "metadata": {
    "execution": {
     "iopub.execute_input": "2022-10-27T13:45:49.383918Z",
     "iopub.status.busy": "2022-10-27T13:45:49.382602Z",
     "iopub.status.idle": "2022-10-27T13:45:49.407767Z",
     "shell.execute_reply": "2022-10-27T13:45:49.406417Z"
    },
    "papermill": {
     "duration": 0.035258,
     "end_time": "2022-10-27T13:45:49.410597",
     "exception": false,
     "start_time": "2022-10-27T13:45:49.375339",
     "status": "completed"
    },
    "tags": []
   },
   "outputs": [
    {
     "data": {
      "text/html": [
       "<div>\n",
       "<style scoped>\n",
       "    .dataframe tbody tr th:only-of-type {\n",
       "        vertical-align: middle;\n",
       "    }\n",
       "\n",
       "    .dataframe tbody tr th {\n",
       "        vertical-align: top;\n",
       "    }\n",
       "\n",
       "    .dataframe thead th {\n",
       "        text-align: right;\n",
       "    }\n",
       "</style>\n",
       "<table border=\"1\" class=\"dataframe\">\n",
       "  <thead>\n",
       "    <tr style=\"text-align: right;\">\n",
       "      <th></th>\n",
       "      <th>Entity</th>\n",
       "      <th>Year</th>\n",
       "      <th>Year-on-year change in female height (%)</th>\n",
       "    </tr>\n",
       "  </thead>\n",
       "  <tbody>\n",
       "    <tr>\n",
       "      <th>0</th>\n",
       "      <td>0</td>\n",
       "      <td>1897</td>\n",
       "      <td>0.08962</td>\n",
       "    </tr>\n",
       "    <tr>\n",
       "      <th>1</th>\n",
       "      <td>0</td>\n",
       "      <td>1898</td>\n",
       "      <td>0.08977</td>\n",
       "    </tr>\n",
       "    <tr>\n",
       "      <th>2</th>\n",
       "      <td>0</td>\n",
       "      <td>1899</td>\n",
       "      <td>0.08966</td>\n",
       "    </tr>\n",
       "    <tr>\n",
       "      <th>3</th>\n",
       "      <td>0</td>\n",
       "      <td>1900</td>\n",
       "      <td>0.08963</td>\n",
       "    </tr>\n",
       "    <tr>\n",
       "      <th>4</th>\n",
       "      <td>0</td>\n",
       "      <td>1901</td>\n",
       "      <td>0.08949</td>\n",
       "    </tr>\n",
       "    <tr>\n",
       "      <th>...</th>\n",
       "      <td>...</td>\n",
       "      <td>...</td>\n",
       "      <td>...</td>\n",
       "    </tr>\n",
       "    <tr>\n",
       "      <th>20795</th>\n",
       "      <td>207</td>\n",
       "      <td>1992</td>\n",
       "      <td>-0.05757</td>\n",
       "    </tr>\n",
       "    <tr>\n",
       "      <th>20796</th>\n",
       "      <td>207</td>\n",
       "      <td>1993</td>\n",
       "      <td>-0.05781</td>\n",
       "    </tr>\n",
       "    <tr>\n",
       "      <th>20797</th>\n",
       "      <td>207</td>\n",
       "      <td>1994</td>\n",
       "      <td>-0.05820</td>\n",
       "    </tr>\n",
       "    <tr>\n",
       "      <th>20798</th>\n",
       "      <td>207</td>\n",
       "      <td>1995</td>\n",
       "      <td>-0.05824</td>\n",
       "    </tr>\n",
       "    <tr>\n",
       "      <th>20799</th>\n",
       "      <td>207</td>\n",
       "      <td>1996</td>\n",
       "      <td>-0.05849</td>\n",
       "    </tr>\n",
       "  </tbody>\n",
       "</table>\n",
       "<p>20800 rows × 3 columns</p>\n",
       "</div>"
      ],
      "text/plain": [
       "       Entity  Year  Year-on-year change in female height (%)\n",
       "0           0  1897                                   0.08962\n",
       "1           0  1898                                   0.08977\n",
       "2           0  1899                                   0.08966\n",
       "3           0  1900                                   0.08963\n",
       "4           0  1901                                   0.08949\n",
       "...       ...   ...                                       ...\n",
       "20795     207  1992                                  -0.05757\n",
       "20796     207  1993                                  -0.05781\n",
       "20797     207  1994                                  -0.05820\n",
       "20798     207  1995                                  -0.05824\n",
       "20799     207  1996                                  -0.05849\n",
       "\n",
       "[20800 rows x 3 columns]"
      ]
     },
     "execution_count": 5,
     "metadata": {},
     "output_type": "execute_result"
    }
   ],
   "source": [
    "h2 = h1.drop(columns = ['Code']) #removed the 'code' column as the 'Entity' column contains the same info for the model\n",
    "h3 = pd.factorize(h2.Entity)[0] #assigned numbers to the strings containing the name of the country \n",
    "h2['Entity'] = h3 #New 'Entity' column of the dataset is h3\n",
    "h2"
   ]
  },
  {
   "cell_type": "code",
   "execution_count": 6,
   "id": "684687ca",
   "metadata": {
    "execution": {
     "iopub.execute_input": "2022-10-27T13:45:49.431017Z",
     "iopub.status.busy": "2022-10-27T13:45:49.429443Z",
     "iopub.status.idle": "2022-10-27T13:45:49.453788Z",
     "shell.execute_reply": "2022-10-27T13:45:49.451437Z"
    },
    "papermill": {
     "duration": 0.042291,
     "end_time": "2022-10-27T13:45:49.460747",
     "exception": false,
     "start_time": "2022-10-27T13:45:49.418456",
     "status": "completed"
    },
    "tags": []
   },
   "outputs": [
    {
     "name": "stdout",
     "output_type": "stream",
     "text": [
      "<class 'pandas.core.frame.DataFrame'>\n",
      "RangeIndex: 20800 entries, 0 to 20799\n",
      "Data columns (total 3 columns):\n",
      " #   Column                                    Non-Null Count  Dtype  \n",
      "---  ------                                    --------------  -----  \n",
      " 0   Entity                                    20800 non-null  int64  \n",
      " 1   Year                                      20800 non-null  int64  \n",
      " 2   Year-on-year change in female height (%)  20800 non-null  float64\n",
      "dtypes: float64(1), int64(2)\n",
      "memory usage: 487.6 KB\n"
     ]
    }
   ],
   "source": [
    "h2.info() #data is ready for model to b applied"
   ]
  },
  {
   "cell_type": "code",
   "execution_count": 7,
   "id": "c6193270",
   "metadata": {
    "execution": {
     "iopub.execute_input": "2022-10-27T13:45:49.479765Z",
     "iopub.status.busy": "2022-10-27T13:45:49.478606Z",
     "iopub.status.idle": "2022-10-27T13:45:49.496577Z",
     "shell.execute_reply": "2022-10-27T13:45:49.494175Z"
    },
    "papermill": {
     "duration": 0.0329,
     "end_time": "2022-10-27T13:45:49.500635",
     "exception": false,
     "start_time": "2022-10-27T13:45:49.467735",
     "status": "completed"
    },
    "tags": []
   },
   "outputs": [
    {
     "name": "stdout",
     "output_type": "stream",
     "text": [
      "       Entity  Year\n",
      "0           0  1897\n",
      "1           0  1898\n",
      "2           0  1899\n",
      "3           0  1900\n",
      "4           0  1901\n",
      "...       ...   ...\n",
      "20795     207  1992\n",
      "20796     207  1993\n",
      "20797     207  1994\n",
      "20798     207  1995\n",
      "20799     207  1996\n",
      "\n",
      "[20800 rows x 2 columns]\n",
      "0        0.08962\n",
      "1        0.08977\n",
      "2        0.08966\n",
      "3        0.08963\n",
      "4        0.08949\n",
      "          ...   \n",
      "20795   -0.05757\n",
      "20796   -0.05781\n",
      "20797   -0.05820\n",
      "20798   -0.05824\n",
      "20799   -0.05849\n",
      "Name: Year-on-year change in female height (%), Length: 20800, dtype: float64\n"
     ]
    }
   ],
   "source": [
    "x = h2.iloc[:,0:2] #slicing to assign x_train and y_train\n",
    "y = h2.iloc[:,2]\n",
    "print(x)\n",
    "print(y)"
   ]
  },
  {
   "cell_type": "code",
   "execution_count": 8,
   "id": "4a4e8917",
   "metadata": {
    "execution": {
     "iopub.execute_input": "2022-10-27T13:45:49.515403Z",
     "iopub.status.busy": "2022-10-27T13:45:49.514229Z",
     "iopub.status.idle": "2022-10-27T13:45:49.526402Z",
     "shell.execute_reply": "2022-10-27T13:45:49.525086Z"
    },
    "papermill": {
     "duration": 0.023577,
     "end_time": "2022-10-27T13:45:49.530000",
     "exception": false,
     "start_time": "2022-10-27T13:45:49.506423",
     "status": "completed"
    },
    "tags": []
   },
   "outputs": [],
   "source": [
    "x_train , x_test , y_train , y_test = train_test_split(x,y,test_size = 0.2,random_state = 2)\n",
    "#The dataset is now split into train and test dataset "
   ]
  },
  {
   "cell_type": "code",
   "execution_count": 9,
   "id": "e477b706",
   "metadata": {
    "execution": {
     "iopub.execute_input": "2022-10-27T13:45:49.544924Z",
     "iopub.status.busy": "2022-10-27T13:45:49.543910Z",
     "iopub.status.idle": "2022-10-27T13:45:49.570753Z",
     "shell.execute_reply": "2022-10-27T13:45:49.568881Z"
    },
    "papermill": {
     "duration": 0.03811,
     "end_time": "2022-10-27T13:45:49.573718",
     "exception": false,
     "start_time": "2022-10-27T13:45:49.535608",
     "status": "completed"
    },
    "tags": []
   },
   "outputs": [
    {
     "name": "stdout",
     "output_type": "stream",
     "text": [
      "       Entity  Year\n",
      "15920     159  1917\n",
      "2420       24  1917\n",
      "3589       35  1986\n",
      "2490       24  1987\n",
      "13482     134  1979\n",
      "...       ...   ...\n",
      "18172     181  1969\n",
      "8112       81  1909\n",
      "852         8  1949\n",
      "9631       96  1928\n",
      "2500       25  1897\n",
      "\n",
      "[4160 rows x 2 columns]\n",
      "11800    0.10116\n",
      "5437     0.10406\n",
      "18566   -0.00220\n",
      "1062     0.06559\n",
      "13816    0.08394\n",
      "          ...   \n",
      "1099    -0.02216\n",
      "18898   -0.04121\n",
      "11798    0.07353\n",
      "6637     0.06013\n",
      "2575     0.04573\n",
      "Name: Year-on-year change in female height (%), Length: 16640, dtype: float64\n",
      "       Entity  Year\n",
      "11800     118  1897\n",
      "5437       54  1934\n",
      "18566     185  1963\n",
      "1062       10  1959\n",
      "13816     138  1913\n",
      "...       ...   ...\n",
      "1099       10  1996\n",
      "18898     188  1995\n",
      "11798     117  1995\n",
      "6637       66  1934\n",
      "2575       25  1972\n",
      "\n",
      "[16640 rows x 2 columns]\n",
      "<class 'pandas.core.frame.DataFrame'>\n",
      "Int64Index: 4160 entries, 15920 to 2500\n",
      "Data columns (total 2 columns):\n",
      " #   Column  Non-Null Count  Dtype\n",
      "---  ------  --------------  -----\n",
      " 0   Entity  4160 non-null   int64\n",
      " 1   Year    4160 non-null   int64\n",
      "dtypes: int64(2)\n",
      "memory usage: 97.5 KB\n"
     ]
    }
   ],
   "source": [
    "print(x_test)  #printing all the datasets fit into the model and to be tested\n",
    "print(y_train)\n",
    "print(x_train)\n",
    "x_test.info()"
   ]
  },
  {
   "cell_type": "code",
   "execution_count": 10,
   "id": "ffba157a",
   "metadata": {
    "execution": {
     "iopub.execute_input": "2022-10-27T13:45:49.587185Z",
     "iopub.status.busy": "2022-10-27T13:45:49.586772Z",
     "iopub.status.idle": "2022-10-27T13:45:52.974417Z",
     "shell.execute_reply": "2022-10-27T13:45:52.972416Z"
    },
    "papermill": {
     "duration": 3.398385,
     "end_time": "2022-10-27T13:45:52.978370",
     "exception": false,
     "start_time": "2022-10-27T13:45:49.579985",
     "status": "completed"
    },
    "tags": []
   },
   "outputs": [],
   "source": [
    "rfc = RandomForestRegressor() #Random Forest regressor is the algorithm used here\n",
    "model = rfc.fit(x,y) #fitting the dataset into the model\n",
    "pred = model.predict(x_test) #predictions dataset\n",
    "#It is not a classification problem but rather a regression problem so random forest regressor is used here\n",
    "#any other regression model can be used"
   ]
  },
  {
   "cell_type": "code",
   "execution_count": 11,
   "id": "38e00215",
   "metadata": {
    "execution": {
     "iopub.execute_input": "2022-10-27T13:45:52.992021Z",
     "iopub.status.busy": "2022-10-27T13:45:52.991549Z",
     "iopub.status.idle": "2022-10-27T13:45:53.006930Z",
     "shell.execute_reply": "2022-10-27T13:45:53.005580Z"
    },
    "papermill": {
     "duration": 0.024843,
     "end_time": "2022-10-27T13:45:53.009213",
     "exception": false,
     "start_time": "2022-10-27T13:45:52.984370",
     "status": "completed"
    },
    "tags": []
   },
   "outputs": [
    {
     "data": {
      "text/html": [
       "<div>\n",
       "<style scoped>\n",
       "    .dataframe tbody tr th:only-of-type {\n",
       "        vertical-align: middle;\n",
       "    }\n",
       "\n",
       "    .dataframe tbody tr th {\n",
       "        vertical-align: top;\n",
       "    }\n",
       "\n",
       "    .dataframe thead th {\n",
       "        text-align: right;\n",
       "    }\n",
       "</style>\n",
       "<table border=\"1\" class=\"dataframe\">\n",
       "  <thead>\n",
       "    <tr style=\"text-align: right;\">\n",
       "      <th></th>\n",
       "      <th>Predictions</th>\n",
       "    </tr>\n",
       "  </thead>\n",
       "  <tbody>\n",
       "    <tr>\n",
       "      <th>0</th>\n",
       "      <td>0.064043</td>\n",
       "    </tr>\n",
       "    <tr>\n",
       "      <th>1</th>\n",
       "      <td>0.069275</td>\n",
       "    </tr>\n",
       "    <tr>\n",
       "      <th>2</th>\n",
       "      <td>-0.077556</td>\n",
       "    </tr>\n",
       "    <tr>\n",
       "      <th>3</th>\n",
       "      <td>-0.035832</td>\n",
       "    </tr>\n",
       "    <tr>\n",
       "      <th>4</th>\n",
       "      <td>0.029168</td>\n",
       "    </tr>\n",
       "    <tr>\n",
       "      <th>...</th>\n",
       "      <td>...</td>\n",
       "    </tr>\n",
       "    <tr>\n",
       "      <th>4155</th>\n",
       "      <td>0.067890</td>\n",
       "    </tr>\n",
       "    <tr>\n",
       "      <th>4156</th>\n",
       "      <td>0.119123</td>\n",
       "    </tr>\n",
       "    <tr>\n",
       "      <th>4157</th>\n",
       "      <td>0.067065</td>\n",
       "    </tr>\n",
       "    <tr>\n",
       "      <th>4158</th>\n",
       "      <td>0.062536</td>\n",
       "    </tr>\n",
       "    <tr>\n",
       "      <th>4159</th>\n",
       "      <td>0.076923</td>\n",
       "    </tr>\n",
       "  </tbody>\n",
       "</table>\n",
       "<p>4160 rows × 1 columns</p>\n",
       "</div>"
      ],
      "text/plain": [
       "      Predictions\n",
       "0        0.064043\n",
       "1        0.069275\n",
       "2       -0.077556\n",
       "3       -0.035832\n",
       "4        0.029168\n",
       "...           ...\n",
       "4155     0.067890\n",
       "4156     0.119123\n",
       "4157     0.067065\n",
       "4158     0.062536\n",
       "4159     0.076923\n",
       "\n",
       "[4160 rows x 1 columns]"
      ]
     },
     "execution_count": 11,
     "metadata": {},
     "output_type": "execute_result"
    }
   ],
   "source": [
    "h4 = pd.DataFrame()\n",
    "h4['Predictions'] = pred\n",
    "h4\n",
    "#converting the results into a dataframe with an index"
   ]
  },
  {
   "cell_type": "code",
   "execution_count": 12,
   "id": "48494ff7",
   "metadata": {
    "execution": {
     "iopub.execute_input": "2022-10-27T13:45:53.023232Z",
     "iopub.status.busy": "2022-10-27T13:45:53.022233Z",
     "iopub.status.idle": "2022-10-27T13:45:53.029174Z",
     "shell.execute_reply": "2022-10-27T13:45:53.027396Z"
    },
    "papermill": {
     "duration": 0.017499,
     "end_time": "2022-10-27T13:45:53.032461",
     "exception": false,
     "start_time": "2022-10-27T13:45:53.014962",
     "status": "completed"
    },
    "tags": []
   },
   "outputs": [],
   "source": [
    "from sklearn.metrics import r2_score #importing library to measure accuracy"
   ]
  },
  {
   "cell_type": "code",
   "execution_count": 13,
   "id": "2b2c223c",
   "metadata": {
    "execution": {
     "iopub.execute_input": "2022-10-27T13:45:53.045380Z",
     "iopub.status.busy": "2022-10-27T13:45:53.044862Z",
     "iopub.status.idle": "2022-10-27T13:45:53.056502Z",
     "shell.execute_reply": "2022-10-27T13:45:53.054773Z"
    },
    "papermill": {
     "duration": 0.021596,
     "end_time": "2022-10-27T13:45:53.059471",
     "exception": false,
     "start_time": "2022-10-27T13:45:53.037875",
     "status": "completed"
    },
    "tags": []
   },
   "outputs": [
    {
     "data": {
      "text/plain": [
       "0.9988553208407059"
      ]
     },
     "execution_count": 13,
     "metadata": {},
     "output_type": "execute_result"
    }
   ],
   "source": [
    "r2_score(y_test,pred) #the r2_score is almost above 0.99 which is quite good"
   ]
  }
 ],
 "metadata": {
  "kernelspec": {
   "display_name": "Python 3",
   "language": "python",
   "name": "python3"
  },
  "language_info": {
   "codemirror_mode": {
    "name": "ipython",
    "version": 3
   },
   "file_extension": ".py",
   "mimetype": "text/x-python",
   "name": "python",
   "nbconvert_exporter": "python",
   "pygments_lexer": "ipython3",
   "version": "3.7.12"
  },
  "papermill": {
   "default_parameters": {},
   "duration": 17.019033,
   "end_time": "2022-10-27T13:45:54.192592",
   "environment_variables": {},
   "exception": null,
   "input_path": "__notebook__.ipynb",
   "output_path": "__notebook__.ipynb",
   "parameters": {},
   "start_time": "2022-10-27T13:45:37.173559",
   "version": "2.3.4"
  }
 },
 "nbformat": 4,
 "nbformat_minor": 5
}
